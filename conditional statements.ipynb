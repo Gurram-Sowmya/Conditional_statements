{
 "cells": [
  {
   "cell_type": "markdown",
   "id": "6733f869",
   "metadata": {},
   "source": [
    "# Simple if statement"
   ]
  },
  {
   "cell_type": "code",
   "execution_count": 2,
   "id": "ac16ad97",
   "metadata": {},
   "outputs": [
    {
     "name": "stdout",
     "output_type": "stream",
     "text": [
      "2\n",
      "the number is positive 2\n"
     ]
    }
   ],
   "source": [
    "#1) WAP to check whether a number is positive. If Positive, print a message Positive.\n",
    "n=int(input())\n",
    "if n%2==0:\n",
    "    print(\"the number is positive\",n)"
   ]
  },
  {
   "cell_type": "code",
   "execution_count": 3,
   "id": "472725f7",
   "metadata": {},
   "outputs": [
    {
     "name": "stdout",
     "output_type": "stream",
     "text": [
      "3\n",
      "hello world\n"
     ]
    }
   ],
   "source": [
    "#2) WAP to display hello world if the number is greater than 1 and lesser than 5\n",
    "n=int(input())\n",
    "if 1<n<5:\n",
    "    print(\"hello world\")"
   ]
  },
  {
   "cell_type": "code",
   "execution_count": 4,
   "id": "d5d10510",
   "metadata": {},
   "outputs": [
    {
     "name": "stdout",
     "output_type": "stream",
     "text": [
      "3\n",
      "fizz\n"
     ]
    }
   ],
   "source": [
    "#3) WAP to check whether the given number is divisible by 3 or not if print fizz.\n",
    "n=int(input())\n",
    "if n%3==0:\n",
    "    print(\"fizz\")"
   ]
  },
  {
   "cell_type": "code",
   "execution_count": 5,
   "id": "9c2b5995",
   "metadata": {},
   "outputs": [
    {
     "name": "stdout",
     "output_type": "stream",
     "text": [
      "12\n",
      "(12+0j)\n"
     ]
    }
   ],
   "source": [
    "#4) WAP to check whether given input is divisible by 2 and 6. \n",
    "#If the condition is satisfied, convert the given number into a complex number. \n",
    "n=int(input())\n",
    "if n%2==0 and n%6==0:\n",
    "    print(complex(n))"
   ]
  },
  {
   "cell_type": "code",
   "execution_count": 23,
   "id": "f33d7a19",
   "metadata": {},
   "outputs": [
    {
     "name": "stdout",
     "output_type": "stream",
     "text": [
      "30\n",
      "['3', '0']\n"
     ]
    }
   ],
   "source": [
    "#5) WAP to check whether a given input is divisible by 3 or 5. \n",
    "#If the condition is satisfiedthe number is converted to a list.i/p: 30 o/p:['3','0']\n",
    "n=int(input())\n",
    "if n%3==0 and n%5==0:\n",
    "    num=str(n)\n",
    "    num_list=list(num)\n",
    "    \n",
    "    print(num_list)\n",
    "    "
   ]
  },
  {
   "cell_type": "code",
   "execution_count": 25,
   "id": "2aaac2e5",
   "metadata": {},
   "outputs": [
    {
     "name": "stdout",
     "output_type": "stream",
     "text": [
      "5\n",
      "the number is multiple of 5\n"
     ]
    }
   ],
   "source": [
    "#6) Write a program to check whether a given number is multiple of 5 or not\n",
    "n=int(input())\n",
    "if n%5==0:\n",
    "    print(\"the number is multiple of 5\")"
   ]
  },
  {
   "cell_type": "code",
   "execution_count": 26,
   "id": "533437f2",
   "metadata": {},
   "outputs": [
    {
     "name": "stdout",
     "output_type": "stream",
     "text": [
      "0\n",
      "0\n"
     ]
    }
   ],
   "source": [
    "#7) WAP to check whether the given input is 0 or not if 0 prints 0. \n",
    "n=int(input())\n",
    "if 0==0:\n",
    "    print(0)"
   ]
  },
  {
   "cell_type": "code",
   "execution_count": 27,
   "id": "fbb8958a",
   "metadata": {},
   "outputs": [
    {
     "name": "stdout",
     "output_type": "stream",
     "text": [
      "-4\n",
      "negative\n"
     ]
    }
   ],
   "source": [
    "#8) WAP to check whether a number is negative. If negative, print a message negative.\n",
    "n=int(input())\n",
    "if n<0:\n",
    "    print(\"negative\")"
   ]
  },
  {
   "cell_type": "code",
   "execution_count": 28,
   "id": "c1497567",
   "metadata": {},
   "outputs": [
    {
     "name": "stdout",
     "output_type": "stream",
     "text": [
      "4\n",
      "[4]\n"
     ]
    }
   ],
   "source": [
    "#9) WAP to check whether a number is even or not. If even, store the value inside the list.\n",
    "n=int(input())\n",
    "l=[]\n",
    "if n%2==0:\n",
    "    l=l+[n]\n",
    "    print(l)\n",
    "    "
   ]
  },
  {
   "cell_type": "code",
   "execution_count": 31,
   "id": "e859082e",
   "metadata": {},
   "outputs": [
    {
     "name": "stdout",
     "output_type": "stream",
     "text": [
      "5\n",
      "(5,)\n"
     ]
    }
   ],
   "source": [
    "#10) WAP to check whether a number is odd or not. If odd, store the value inside the tuple.\n",
    "n=int(input())\n",
    "t=()\n",
    "if n%2!=0:\n",
    "    t=t+(n,)\n",
    "    print(t)"
   ]
  },
  {
   "cell_type": "code",
   "execution_count": 33,
   "id": "cdb5d196",
   "metadata": {},
   "outputs": [
    {
     "name": "stdout",
     "output_type": "stream",
     "text": [
      "35\n",
      "1225\n"
     ]
    }
   ],
   "source": [
    "#11) WAP to check whether a given value is divisible by 5 and 7. If the value is divisible, todisplay the square of the values.\n",
    "n=int(input())\n",
    "if n%5==0 and n%7==0:\n",
    "    print(n**2)"
   ]
  },
  {
   "cell_type": "code",
   "execution_count": 43,
   "id": "94e49c88",
   "metadata": {},
   "outputs": [
    {
     "name": "stdout",
     "output_type": "stream",
     "text": [
      "25\n",
      "6\n"
     ]
    }
   ],
   "source": [
    "#12) WAP to check whether the given value's last digit is greater than 5 or not. \n",
    "#If greater, toperform the bitwise right shift operator (skipping value is 2)\n",
    "\n",
    "n=int(input())\n",
    "last_num=n%10\n",
    "if last_num%5==0:\n",
    "    print(n>>2)"
   ]
  },
  {
   "cell_type": "code",
   "execution_count": 41,
   "id": "518da259",
   "metadata": {},
   "outputs": [
    {
     "name": "stdout",
     "output_type": "stream",
     "text": [
      "6\n",
      "36\n"
     ]
    }
   ],
   "source": [
    "#13) WAP to check whether a given value is divisible by 3 and less than 30. \n",
    "#If the value is divisible, to display the square of the values.\n",
    "n=int(input())\n",
    "if n%3==0 and n<30:\n",
    "    print(n**2)\n"
   ]
  },
  {
   "cell_type": "code",
   "execution_count": 44,
   "id": "8d8cad6a",
   "metadata": {},
   "outputs": [
    {
     "name": "stdout",
     "output_type": "stream",
     "text": [
      "8\n",
      "512\n"
     ]
    }
   ],
   "source": [
    "#14) WAP to check whether a given value is an even number and divisible by 4. If satisfied to display the cube of the values.\n",
    "n=int(input())\n",
    "if n%2==0 and n%4==0:\n",
    "    print(n**3)"
   ]
  },
  {
   "cell_type": "code",
   "execution_count": 45,
   "id": "059dd362",
   "metadata": {},
   "outputs": [
    {
     "name": "stdout",
     "output_type": "stream",
     "text": [
      "4\n",
      "[4]\n"
     ]
    }
   ],
   "source": [
    "#15) WAP to check whether given value is even value or not. If the even number stores thevalue inside the list. \n",
    "n=int(input())\n",
    "l=[]\n",
    "if n%2==0:\n",
    "    l=l+[n]\n",
    "    print(l)"
   ]
  },
  {
   "cell_type": "code",
   "execution_count": 46,
   "id": "bf440125",
   "metadata": {},
   "outputs": [
    {
     "name": "stdout",
     "output_type": "stream",
     "text": [
      "88\n",
      "8\n"
     ]
    }
   ],
   "source": [
    "#16) WAP to check whether a given value is a negative or even number. If satisfied to display the last digit of the values.\n",
    "n=int(input())\n",
    "if n<0 or n%2==0:\n",
    "    last_num=n%10\n",
    "    print(last_num)"
   ]
  },
  {
   "cell_type": "code",
   "execution_count": 47,
   "id": "d0abacf8",
   "metadata": {},
   "outputs": [
    {
     "name": "stdout",
     "output_type": "stream",
     "text": [
      "5\n",
      "125\n"
     ]
    }
   ],
   "source": [
    "#17) WAP to check whether a given value is a negative or odd number and divisible by 4. \n",
    "#If satisfied,to display the cube of the values.\n",
    "n=int(input())\n",
    "if n<0 or n%2!=0 or n%4==0:\n",
    "    print(n**3)\n",
    "    "
   ]
  },
  {
   "cell_type": "code",
   "execution_count": 52,
   "id": "8db96f26",
   "metadata": {},
   "outputs": [
    {
     "name": "stdout",
     "output_type": "stream",
     "text": [
      "68\n",
      "D\n"
     ]
    }
   ],
   "source": [
    "#18) WAP to check whether a given ascii value is divisible by 4 and even value. If satisfied to display the ascii character.\n",
    "n=int(input())\n",
    "if n%4==0 and n%2==0:\n",
    "    char=chr(n)\n",
    "    print(char)\n"
   ]
  },
  {
   "cell_type": "code",
   "execution_count": 53,
   "id": "aecb4048",
   "metadata": {},
   "outputs": [
    {
     "name": "stdout",
     "output_type": "stream",
     "text": [
      "80\n",
      "P\n"
     ]
    }
   ],
   "source": [
    "#19) WAP to check whether a given value is present in between 45 to 125 and the number\n",
    "#should be divisible by 4 and 5 and even value. If satisfied, to display the ascii character.\n",
    "\n",
    "n = int(input())\n",
    "if 45<=n<=125 and n%4==0 and n%5==0 and n%2==0:\n",
    "    print(chr(n))"
   ]
  },
  {
   "cell_type": "code",
   "execution_count": 54,
   "id": "11ad3904",
   "metadata": {},
   "outputs": [
    {
     "name": "stdout",
     "output_type": "stream",
     "text": [
      "80\n",
      "400\n"
     ]
    }
   ],
   "source": [
    "#20) WAP to check whether a given value is present in between 25 to 100 and the number\n",
    "#should be divisible by 4 and 5. If satisfied, to display multiplication of given value with 5.\n",
    "\n",
    "n=int(input())\n",
    "if 25<=n<=100 and n%4==0 and n%5==0:\n",
    "    print(n*5)\n",
    "\n"
   ]
  },
  {
   "cell_type": "code",
   "execution_count": 70,
   "id": "2bf953df",
   "metadata": {},
   "outputs": [
    {
     "name": "stdout",
     "output_type": "stream",
     "text": [
      "55\n"
     ]
    }
   ],
   "source": [
    "#21) WAP to check whether a given number is an integer and odd number. If the condition\n",
    "#is satisfied, the integer is divisible by 5 and displays the result.\n",
    "n=input()\n",
    "if n==int:\n",
    "    print(n%5)\n",
    "\n"
   ]
  },
  {
   "cell_type": "code",
   "execution_count": 73,
   "id": "25f93414",
   "metadata": {},
   "outputs": [
    {
     "name": "stdout",
     "output_type": "stream",
     "text": [
      "0\n"
     ]
    }
   ],
   "source": [
    "#22) WAP to check whether a given value is an integer or not. \n",
    "#If integer, the given value is converted to string and displays the result.\n",
    "n=55\n",
    "print(n%5)\n"
   ]
  },
  {
   "cell_type": "code",
   "execution_count": 22,
   "id": "e5426d07",
   "metadata": {},
   "outputs": [],
   "source": [
    "#23)WAP to check whether a given value is less than 125 and greater than 60 or not. If\n",
    "#the condition is satisfied, take the name and extract the middle character and display it.\n",
    "n=int(input())\n",
    "if n<125 and n>60:\n",
    "    name=\"sowmya\"\n",
    "    print(name//2)\n"
   ]
  },
  {
   "cell_type": "code",
   "execution_count": 1,
   "id": "34a55a01",
   "metadata": {},
   "outputs": [
    {
     "name": "stdout",
     "output_type": "stream",
     "text": [
      "20\n"
     ]
    }
   ],
   "source": [
    "#24) WAP to check whether a given two integers are equal or not. If both are equal, to\n",
    "#perform addition and display the result. \n",
    "a=10\n",
    "b=10\n",
    "if a==b:\n",
    "    print(a+b)\n"
   ]
  },
  {
   "cell_type": "code",
   "execution_count": 2,
   "id": "71662401",
   "metadata": {},
   "outputs": [
    {
     "name": "stdout",
     "output_type": "stream",
     "text": [
      "100\n",
      "3\n"
     ]
    }
   ],
   "source": [
    "#25) WAP to check whether two values are equal or not if equal to perform multiplication\n",
    "#and division by 3 and display the value.\n",
    "a=10\n",
    "b=10\n",
    "if a==b:\n",
    "    print(a*b)\n",
    "    print(10//3)\n"
   ]
  },
  {
   "cell_type": "code",
   "execution_count": 6,
   "id": "ac1ca64a",
   "metadata": {},
   "outputs": [
    {
     "name": "stdout",
     "output_type": "stream",
     "text": [
      "{'A': 65}\n"
     ]
    }
   ],
   "source": [
    "#26) WAP to check whether a character is in the alphabet or not. \n",
    "#If the alphabet, store the value inside the dictionary (key as a character and value as an ascii value).\n",
    "c=\"A\"\n",
    "char=ord(c)\n",
    "dictionary={}\n",
    "if char>=65 and char<=90 or char>=97 and char<=122:\n",
    "    dictionary[c]=char\n",
    "    print(dictionary)\n",
    "    \n"
   ]
  },
  {
   "cell_type": "code",
   "execution_count": 7,
   "id": "a002fa4b",
   "metadata": {},
   "outputs": [
    {
     "name": "stdout",
     "output_type": "stream",
     "text": [
      "{'A': 65}\n"
     ]
    }
   ],
   "source": [
    "#27)WAP to check whether a character is in the uppercase or not. If the uppercase, store\n",
    "#the value inside the dictionary (key as a character and value as an ascii value).\n",
    "\n",
    "c=\"A\"\n",
    "char=ord(c)\n",
    "dictionary={}\n",
    "if char>=65 and char<=90:\n",
    "    dictionary[c]=char\n",
    "    print(dictionary)"
   ]
  },
  {
   "cell_type": "code",
   "execution_count": 8,
   "id": "1c810f20",
   "metadata": {},
   "outputs": [
    {
     "name": "stdout",
     "output_type": "stream",
     "text": [
      "{'a': 97}\n"
     ]
    }
   ],
   "source": [
    "#28) WAP to check whether a character is in the uppercase or not. If the uppercase, convert\n",
    "#to lowercase and store the value inside the dictionary (character as a key and ascii value as a value).\n",
    "c=\"A\"\n",
    "char=ord(c)\n",
    "dictionary={}\n",
    "if char>=65 and char<=90:\n",
    "    lower=c.lower()\n",
    "    char_num=ord(lower)\n",
    "    dictionary[lower]=char_num\n",
    "    print(dictionary)\n"
   ]
  },
  {
   "cell_type": "code",
   "execution_count": 9,
   "id": "5c3d4d65",
   "metadata": {},
   "outputs": [
    {
     "name": "stdout",
     "output_type": "stream",
     "text": [
      "{'a': 97}\n"
     ]
    }
   ],
   "source": [
    "c=\"A\"\n",
    "char=ord(c)\n",
    "dictionary={}\n",
    "if char>=65 and char<=90:\n",
    "    lower=char+32\n",
    "    char_num=chr(lower)\n",
    "    dictionary[char_num]=lower\n",
    "    print(dictionary)"
   ]
  },
  {
   "cell_type": "code",
   "execution_count": 11,
   "id": "9ff44776",
   "metadata": {},
   "outputs": [
    {
     "name": "stdout",
     "output_type": "stream",
     "text": [
      "aaaaa\n"
     ]
    }
   ],
   "source": [
    "#29) WAP to check whether a character is in the lowercase or not. If the lowercase, to \n",
    "#perform the replication operation on that character.\n",
    "c='a'\n",
    "num=ord(c)\n",
    "\n",
    "if num>=97 and num<=122:\n",
    "    print(c*5)\n"
   ]
  },
  {
   "cell_type": "code",
   "execution_count": 17,
   "id": "d1e26460",
   "metadata": {},
   "outputs": [
    {
     "name": "stdout",
     "output_type": "stream",
     "text": [
      "0\n"
     ]
    }
   ],
   "source": [
    "#30) WAP to check whether a character is in the ascii number or not. \n",
    "#If the ascii number, to convert into integer. \n",
    "c='0'\n",
    "\n",
    "if ord(c)>=48 and ord(c)<=57:\n",
    "    integer=int(c)\n",
    "    print(integer)\n"
   ]
  },
  {
   "cell_type": "code",
   "execution_count": 15,
   "id": "d398fa2d",
   "metadata": {},
   "outputs": [
    {
     "name": "stdout",
     "output_type": "stream",
     "text": [
      "Enter a character: 9\n",
      "The character is an ASCII number and its integer value is: 9\n"
     ]
    }
   ],
   "source": [
    "\n",
    "character = input(\"Enter a character: \")\n",
    "\n",
    "# check if the character is an ASCII number\n",
    "if ord(character) >= 48 and ord(character) <= 57:\n",
    "    # convert the character to an integer\n",
    "    integer = int(character)\n",
    "    print(\"The character is an ASCII number and its integer value is:\", integer)\n",
    "else:\n",
    "    print(\"The character is not an ASCII number.\")"
   ]
  },
  {
   "cell_type": "code",
   "execution_count": 18,
   "id": "a09feff5",
   "metadata": {},
   "outputs": [
    {
     "name": "stdout",
     "output_type": "stream",
     "text": [
      "35\n"
     ]
    }
   ],
   "source": [
    "#31)WAP to check whether a character is in the special symbol or not. \n",
    "#If the special symbol, to display a symbol with ascii value.\n",
    "c=\"#\"\n",
    "if ord(c)>=0 and ord(c)<=127:\n",
    "    print(ord(c))\n"
   ]
  },
  {
   "cell_type": "code",
   "execution_count": null,
   "id": "6cafce19",
   "metadata": {},
   "outputs": [],
   "source": [
    "# take user input\n",
    "character = input(\"Enter a character: \")\n",
    "\n",
    "# check if the character is a special symbol\n",
    "if (ord(character) >= 33 and ord(character) <= 47) or (ord(character) >= 58 and ord(character) <= 64) or (ord(character) >= 91 and ord(character) <= 96) or (ord(character) >= 123 and ord(character) <= 126):\n",
    "    # display the ASCII value of the symbol\n",
    "    ascii_value = ord(character)\n",
    "    print(\"The character is a special symbol and its ASCII value is:\", ascii_value)\n",
    "else:\n",
    "    print(\"The character is not a special symbol.\")\n"
   ]
  },
  {
   "cell_type": "code",
   "execution_count": null,
   "id": "2f7c5126",
   "metadata": {},
   "outputs": [],
   "source": [
    "'''\n",
    "Here are the ASCII values of some common special symbols:\n",
    "\n",
    "! (exclamation mark): 33\n",
    "\" (quotation mark): 34\n",
    "(number sign): 35\n",
    "$ (dollar sign): 36\n",
    "% (percent sign): 37\n",
    "& (ampersand): 38\n",
    "' (apostrophe): 39\n",
    "( (left parenthesis): 40\n",
    ") (right parenthesis): 41\n",
    "(asterisk): 42\n",
    "(plus sign): 43\n",
    ", (comma): 44\n",
    "(hyphen or minus sign): 45\n",
    ". (period or full stop): 46\n",
    "/ (slash or forward slash): 47\n",
    ": (colon): 58\n",
    "; (semicolon): 59\n",
    "< (less-than sign): 60\n",
    "= (equals sign): 61\n",
    "(greater-than sign): 62\n",
    "\n",
    "? (question mark): 63\n",
    "@ (at symbol): 64\n",
    "[ (left square bracket): 91\n",
    "\\ (backslash): 92\n",
    "] (right square bracket): 93\n",
    "^ (caret or circumflex): 94\n",
    "_ (underscore): 95\n",
    "` (grave accent or backtick): 96\n",
    "{ (left curly brace): 123\n",
    "| (vertical bar or pipe): 124\n",
    "} (right curly brace): 125\n",
    "~ (tilde): 126\n",
    "Note that these values are based on the ASCII character encoding system, which is a 7-bit character set that includes \n",
    "128 characters. Some of these characters are control characters that do not have a visual representation, \n",
    "while others are printable characters that can be displayed on the screen.\n",
    "\n",
    "\n",
    "\n",
    "\n",
    "\n",
    "\n",
    "'''"
   ]
  },
  {
   "cell_type": "code",
   "execution_count": 31,
   "id": "648d1305",
   "metadata": {},
   "outputs": [
    {
     "name": "stdout",
     "output_type": "stream",
     "text": [
      "B\n",
      "66\n"
     ]
    }
   ],
   "source": [
    "#32) WAP to check whether a character is an even number or not. If the even number, to display an even number.\n",
    "\n",
    "n=input()\n",
    "num=ord(n)\n",
    "if num%2==0:\n",
    "    print(num)\n",
    "    "
   ]
  },
  {
   "cell_type": "code",
   "execution_count": 38,
   "id": "7f08b5fb",
   "metadata": {},
   "outputs": [
    {
     "name": "stdout",
     "output_type": "stream",
     "text": [
      "enter the character:A\n",
      "B\n"
     ]
    }
   ],
   "source": [
    "#33)WAP to check whether a character is in the vowel or not. If the vowel, print the next character.\n",
    "\n",
    "c=input(\"enter the character:\")\n",
    "vowel=['a','e','i','o','u','A','E','I','O','U']\n",
    "if c in vowel:\n",
    "    print(chr(ord(c)+1))\n"
   ]
  },
  {
   "cell_type": "code",
   "execution_count": 39,
   "id": "267763b4",
   "metadata": {},
   "outputs": [
    {
     "name": "stdout",
     "output_type": "stream",
     "text": [
      "enter the character:b\n",
      "a\n"
     ]
    }
   ],
   "source": [
    "#34) WAP to check whether a character is in the not a vowel. If it's not a vowel, print the previous character.\n",
    "c=input(\"enter the character:\")\n",
    "vowel=['a','e','i','o','u','A','E','I','O','U']\n",
    "if c not in vowel:\n",
    "    print(chr(ord(c)-1))"
   ]
  },
  {
   "cell_type": "code",
   "execution_count": null,
   "id": "649773f4",
   "metadata": {},
   "outputs": [],
   "source": [
    "#35) WAP to check whether a given value is a single value data type or not. \n",
    "#If single value, display the given value as a single value data type.\n",
    "n=input()\n",
    "if type(eval(n)) not in [list,tuple,set,dict]:\n",
    "        \n",
    "        print(\"The given value is a single value data type\")\n",
    "    "
   ]
  },
  {
   "cell_type": "code",
   "execution_count": 69,
   "id": "2eee1a1f",
   "metadata": {},
   "outputs": [
    {
     "name": "stdout",
     "output_type": "stream",
     "text": [
      "[1,2,3]\n",
      "(1, 2, 3)\n"
     ]
    }
   ],
   "source": [
    "#36) WAP to check whether a given value is a multi-value data type or not. \n",
    "#If multi value, store the given value inside the tuple and display it.\n",
    "\n",
    "n=input()\n",
    "if type(eval(n)) in [list,tuple,set,dict]:\n",
    "    print(tuple(eval(n)))"
   ]
  },
  {
   "cell_type": "code",
   "execution_count": 72,
   "id": "7bf4f44f",
   "metadata": {},
   "outputs": [
    {
     "name": "stdout",
     "output_type": "stream",
     "text": [
      "[1,2,3]\n",
      "{1, 2, 3}\n"
     ]
    }
   ],
   "source": [
    "#37)WAP to check whether a given value is an immutable data type or not. If an immutable\n",
    "#data type value, store the given value inside the set and display it.\n",
    "n=input()\n",
    "immutable=[list,set,dict]\n",
    "if type(eval(n)) in immutable:\n",
    "    print(set(eval(n)))\n"
   ]
  },
  {
   "cell_type": "code",
   "execution_count": 65,
   "id": "5ea7a501",
   "metadata": {},
   "outputs": [],
   "source": [
    "#38) WAP to check whether the middle element of a given list is odd or not. If it is odd then\n",
    "#print odd then print the number else directly print the number\n",
    "\n",
    "\n",
    "l=list(input())\n"
   ]
  },
  {
   "cell_type": "code",
   "execution_count": 73,
   "id": "75360fbd",
   "metadata": {},
   "outputs": [
    {
     "name": "stdout",
     "output_type": "stream",
     "text": [
      "2072566852176\n",
      "2072566852176\n"
     ]
    }
   ],
   "source": [
    "#39) WAP to check whether the two variables are pointing to the same memory location or not \n",
    "#if they are pointing to the same memory location then print the address of both the variables.\n",
    "\n",
    "a=10\n",
    "b=10\n",
    "if a is b:\n",
    "    print(id(a))\n",
    "    print(id(b))"
   ]
  },
  {
   "cell_type": "code",
   "execution_count": 78,
   "id": "b5d71723",
   "metadata": {},
   "outputs": [
    {
     "name": "stdout",
     "output_type": "stream",
     "text": [
      "he\n"
     ]
    }
   ],
   "source": [
    "#40)WAP to check whether the given length of the string is even or not. If the condition is satisfied, \n",
    "#display the sequence of characters from zero position to length of collection -2.\n",
    "s=\"heyy\"\n",
    "if len(s)%2==0:\n",
    "    print(s[0:-2])\n"
   ]
  },
  {
   "cell_type": "code",
   "execution_count": 79,
   "id": "e33ee92e",
   "metadata": {},
   "outputs": [
    {
     "name": "stdout",
     "output_type": "stream",
     "text": [
      "b\n",
      "a\n"
     ]
    }
   ],
   "source": [
    "#41) WAP to check whether the two given strings are having the same values or not. \n",
    "#If both are not the same values then swap the values of one variable to another variable after swapping print the two values.\n",
    "\n",
    "s1='a'\n",
    "s2='b'\n",
    "if s1!=s2:\n",
    "    s1,s2=s2,s1\n",
    "    print(s1)\n",
    "    print(s2)\n",
    "    "
   ]
  },
  {
   "cell_type": "code",
   "execution_count": 81,
   "id": "a524bf14",
   "metadata": {},
   "outputs": [
    {
     "name": "stdout",
     "output_type": "stream",
     "text": [
      "{'#': 35}\n"
     ]
    }
   ],
   "source": [
    "#42)WAP to check whether a given character is a special symbol or not. \n",
    "#If satisfied, store the symbol as a key and value as a ascii value of the given character inside the dictionary.\n",
    "c=\"#\"\n",
    "normal=[ord(c)>=48 and ord(c)<=57 or ord(c)>=65 and ord(c)<=90 or ord(c)>=97 and ord(c)<=122]\n",
    "dic={}\n",
    "if c not in normal:\n",
    "    dic[c]=ord(c)\n",
    "    print(dic)\n",
    "    \n",
    "    \n"
   ]
  },
  {
   "cell_type": "markdown",
   "id": "9c2d4726",
   "metadata": {},
   "source": [
    "# If else statement"
   ]
  },
  {
   "cell_type": "code",
   "execution_count": 115,
   "id": "b232ee57",
   "metadata": {},
   "outputs": [
    {
     "name": "stdout",
     "output_type": "stream",
     "text": [
      "-5\n",
      "the number is negative\n"
     ]
    }
   ],
   "source": [
    "#43)WAP to check whether a number is positive or negative. If Positive print positive message or else print Negative Number.\n",
    "\n",
    "n=int(input())\n",
    "if n>0:\n",
    "    print(\"the number is positive\")\n",
    "else:\n",
    "    print(\"the number is negative\")\n"
   ]
  },
  {
   "cell_type": "code",
   "execution_count": 116,
   "id": "fd957619",
   "metadata": {},
   "outputs": [
    {
     "name": "stdout",
     "output_type": "stream",
     "text": [
      "6\n",
      "The number is even \n"
     ]
    }
   ],
   "source": [
    "#44)WAP to check whether a number is even or odd. If even, print message an even or else print message as odd.\n",
    "n=int(input())\n",
    "if n%2==0:\n",
    "    print(\"The number is even \")\n",
    "else:\n",
    "    print(\"The number is odd\")\n",
    "\n"
   ]
  },
  {
   "cell_type": "code",
   "execution_count": 117,
   "id": "fd6c161f",
   "metadata": {},
   "outputs": [
    {
     "name": "stdout",
     "output_type": "stream",
     "text": [
      "78\n",
      "the number is greater than 10\n"
     ]
    }
   ],
   "source": [
    "#45)Write a program to check whether a given number is greater than 10 or not. if it is greater than 10 print message as \n",
    "#greater and print that or else if that number is not greater than 10 print that number\n",
    "\n",
    "n=int(input())\n",
    "if n>10:\n",
    "    print(\"the number is greater than 10\")\n",
    "else:\n",
    "    print(\"the number is not greater than 10\")"
   ]
  },
  {
   "cell_type": "code",
   "execution_count": 121,
   "id": "a39ddf73",
   "metadata": {},
   "outputs": [
    {
     "name": "stdout",
     "output_type": "stream",
     "text": [
      "68\n",
      "D\n"
     ]
    }
   ],
   "source": [
    "#46) WAP to check whether a given value is present in between 45 to 125. If value is present print the ascii character.\n",
    "n=int(input())\n",
    "if 45<=n<=125:\n",
    "    print(chr(n))"
   ]
  },
  {
   "cell_type": "code",
   "execution_count": 123,
   "id": "deb48eae",
   "metadata": {},
   "outputs": [
    {
     "name": "stdout",
     "output_type": "stream",
     "text": [
      "100\n"
     ]
    }
   ],
   "source": [
    "#47) WAP to accept two integers and check whether they are equal or not. If equal, multiply to value or quotation value \n",
    "#and display it.\n",
    "a=10\n",
    "b=10\n",
    "if a==b:\n",
    "    print(a*b)"
   ]
  },
  {
   "cell_type": "code",
   "execution_count": 124,
   "id": "e77e87a2",
   "metadata": {},
   "outputs": [
    {
     "name": "stdout",
     "output_type": "stream",
     "text": [
      "5\n",
      "6\n",
      "6\n"
     ]
    }
   ],
   "source": [
    "#48)WAP to find the largest of two numbers.\n",
    "a=int(input())\n",
    "b=int(input())\n",
    "if a>b:\n",
    "    print(a)\n",
    "else:\n",
    "    print(b)"
   ]
  },
  {
   "cell_type": "code",
   "execution_count": 125,
   "id": "19b83d77",
   "metadata": {},
   "outputs": [
    {
     "name": "stdout",
     "output_type": "stream",
     "text": [
      "5\n",
      "6\n",
      "5\n"
     ]
    }
   ],
   "source": [
    "#49) WAP to find the smallest of two numbers. present\n",
    "\n",
    "a=int(input())\n",
    "b=int(input())\n",
    "if a<b:\n",
    "    print(a)\n",
    "else:\n",
    "    print(b)"
   ]
  },
  {
   "cell_type": "code",
   "execution_count": 130,
   "id": "11cc749a",
   "metadata": {},
   "outputs": [
    {
     "name": "stdout",
     "output_type": "stream",
     "text": [
      "10\n",
      "11\n"
     ]
    }
   ],
   "source": [
    "#50) WAP to check whether the given number is even or odd. If it is even then make it as an add number, \n",
    "#if it is an odd number then make it as even number.\n",
    "\n",
    "a=int(input())\n",
    "if a%2==0:\n",
    "    print(a+1)\n",
    "else:\n",
    "    print(a+1)\n",
    "    "
   ]
  },
  {
   "cell_type": "code",
   "execution_count": 133,
   "id": "12f179d2",
   "metadata": {},
   "outputs": [
    {
     "name": "stdout",
     "output_type": "stream",
     "text": [
      "5\n",
      "6\n"
     ]
    }
   ],
   "source": [
    "n=int(input())\n",
    "print(n+1)"
   ]
  },
  {
   "cell_type": "code",
   "execution_count": 136,
   "id": "d11568fe",
   "metadata": {},
   "outputs": [
    {
     "name": "stdout",
     "output_type": "stream",
     "text": [
      "30\n",
      "27000\n"
     ]
    }
   ],
   "source": [
    "#51) WAP to check whether the given number lies between 1 to 19, if it is true square that number or \n",
    "#else false cube that number and display the number.\n",
    "n=int(input())\n",
    "if 1<n<19:\n",
    "    print(n**2)\n",
    "else:\n",
    "    print(n**3)\n",
    "    \n"
   ]
  },
  {
   "cell_type": "code",
   "execution_count": 138,
   "id": "9c0b5a8e",
   "metadata": {},
   "outputs": [
    {
     "name": "stdout",
     "output_type": "stream",
     "text": [
      "55\n",
      "11\n"
     ]
    }
   ],
   "source": [
    "#52) WAP to check whether a given value is even and in range of 47 to 58 and not in 0 or odd. if condition is True, \n",
    "#to perform display the ascii character or else to perform floor division with 5 and display it.\n",
    "n=int(input())\n",
    "if n%2==0 and 47<=n<58:\n",
    "    print(chr(n))\n",
    "else:\n",
    "    print(n//5)\n"
   ]
  },
  {
   "cell_type": "code",
   "execution_count": 141,
   "id": "2feffa9d",
   "metadata": {},
   "outputs": [
    {
     "name": "stdout",
     "output_type": "stream",
     "text": [
      "33\n",
      "[33]\n"
     ]
    }
   ],
   "source": [
    "#53) WAP to check whether a given value is less than 125 and in between 47 to 125 or not. if condition is True, to perform \n",
    "#store the given value as key and value as a character into the dictionary or else to append the value in list and display it.\n",
    "\n",
    "n=int(input())\n",
    "d={}\n",
    "l=[]\n",
    "if n<125 and 47<n<127:\n",
    "    d[n]=chr(n)\n",
    "    print(d)\n",
    "else:\n",
    "    l.append(n)\n",
    "    print(l)\n",
    "    \n",
    "    "
   ]
  },
  {
   "cell_type": "code",
   "execution_count": 161,
   "id": "69003b03",
   "metadata": {},
   "outputs": [
    {
     "name": "stdout",
     "output_type": "stream",
     "text": [
      "a\n",
      " The given character is alphabet: a\n"
     ]
    }
   ],
   "source": [
    "#54) WAP to check whether a given character is in the alphabet or not. if alphabet, display the alphabet with character or \n",
    "#else display the not alphabet with character.\n",
    "n=input()\n",
    "if ord(n)>=65 and ord(n)<=90 or ord(n)>=97 and ord(n)<=122:\n",
    "    print(\" The given character is alphabet:\",n)\n",
    "else:\n",
    "    print(\" The given character is not alphabet:\",n) "
   ]
  },
  {
   "cell_type": "code",
   "execution_count": 163,
   "id": "c155858d",
   "metadata": {},
   "outputs": [
    {
     "name": "stdout",
     "output_type": "stream",
     "text": [
      "a\n",
      " The given character is not uppercase: a\n"
     ]
    }
   ],
   "source": [
    "#55) WAP to check whether a given character is uppercase or other character. if uppercase,\n",
    "#display the uppercase with character or else display the other character with character.\n",
    "n=input()\n",
    "if ord(n)>=65 and ord(n)<=90:\n",
    "    print(\" The given character is uppercase:\",n)\n",
    "else:\n",
    "    print(\" The given character is not uppercase:\",n) \n"
   ]
  },
  {
   "cell_type": "code",
   "execution_count": 5,
   "id": "c42c9d9d",
   "metadata": {},
   "outputs": [
    {
     "name": "stdout",
     "output_type": "stream",
     "text": [
      "a\n",
      " The given character is lowercase: a\n"
     ]
    }
   ],
   "source": [
    "#56) WAP to check whether a given character is lowercase or other character. if lowercase,\n",
    "#display the lowercase with character or else display the other character with character.\n",
    "\n",
    "n=input()\n",
    "if ord(n)>=97 and ord(n)<=122:\n",
    "    print(\" The given character is lowercase:\",n)\n",
    "else:\n",
    "    print(\" The given character is not lowercase:\",n)"
   ]
  },
  {
   "cell_type": "code",
   "execution_count": 11,
   "id": "0b645535",
   "metadata": {},
   "outputs": [
    {
     "name": "stdout",
     "output_type": "stream",
     "text": [
      "A\n",
      "a\n"
     ]
    }
   ],
   "source": [
    "#57) WAP to check whether a given character is uppercase or other character. if uppercase, convert to lowercase .or else\n",
    "#display the ascii number.\n",
    "n = input()\n",
    "if ord(n) >= 65 and ord(n) <= 90:\n",
    "    print(chr(ord(n) + 32))\n",
    "else:\n",
    "    print(ord(n))\n",
    "\n"
   ]
  },
  {
   "cell_type": "code",
   "execution_count": 13,
   "id": "f1690454",
   "metadata": {},
   "outputs": [
    {
     "name": "stdout",
     "output_type": "stream",
     "text": [
      "a\n",
      "A\n"
     ]
    }
   ],
   "source": [
    "#58)WAP to check whether the given character is in lowercase or uppercase. If it is in lowercase, \n",
    "#convert it into uppercase, or else it is in uppercase and convert it into lowercase. Display the value.\n",
    "n = input()\n",
    "if ord(n) >= 97 and ord(n) <= 122:\n",
    "    print(chr(ord(n) - 32))\n",
    "else:\n",
    "    print(chr(ord(n) + 32))"
   ]
  },
  {
   "cell_type": "code",
   "execution_count": 19,
   "id": "54c4e3db",
   "metadata": {},
   "outputs": [
    {
     "name": "stdout",
     "output_type": "stream",
     "text": [
      "a\n",
      "b\n"
     ]
    }
   ],
   "source": [
    "\n",
    "#59)WAP to check whether a given character is a vowel or consonant. if vowel, to print the next character of a given character \n",
    "#or else print previous characters.\n",
    "\n",
    "\n",
    "n=input()\n",
    "if n in ['a','e','i','o','u']:\n",
    "    print(chr(ord(n)+1))\n",
    "else:\n",
    "    print(chr(ord(n)-1))"
   ]
  },
  {
   "cell_type": "code",
   "execution_count": 1,
   "id": "b2fcd250",
   "metadata": {},
   "outputs": [
    {
     "name": "stdout",
     "output_type": "stream",
     "text": [
      "hee\n",
      "eeh\n"
     ]
    }
   ],
   "source": [
    "#60) WAP to check whether a given string of first character is alphabet or not\n",
    "#if the alphabet prints, reverse the string or else print the middle character.\n",
    "s=input()\n",
    "n=s[0]\n",
    "if [ord(n)>=65 and ord(n)<=90 or ord(n)>=97 and ord(n)<=122]:#when i used [] i am not getting answer \n",
    "    print(s[::-1])\n",
    "else:\n",
    "    middle_chr=s[len(s)//2]\n",
    "    print(middle_chr)\n",
    "    \n",
    "\n"
   ]
  },
  {
   "cell_type": "code",
   "execution_count": 36,
   "id": "cfa4feee",
   "metadata": {},
   "outputs": [
    {
     "name": "stdout",
     "output_type": "stream",
     "text": [
      "jii\n",
      "j i\n"
     ]
    }
   ],
   "source": [
    "#61)WAP to check whether a given string is even length or not. if even, to append the new string called \"bye\" or \n",
    "#else print the first and last characters.\n",
    "n=input()\n",
    "if len(n)%2==0:\n",
    "    print(n+\"bye\")\n",
    "else:\n",
    "    print(n[0],n[-1])"
   ]
  },
  {
   "cell_type": "code",
   "execution_count": 40,
   "id": "7ea100cc",
   "metadata": {},
   "outputs": [
    {
     "name": "stdout",
     "output_type": "stream",
     "text": [
      "2000\n",
      "the given year is leap year\n"
     ]
    }
   ],
   "source": [
    "#62) WAP to check whether a given year is a leap year or not. if leap year, print leap year or else not a leap year.\n",
    "n=int(input())\n",
    "if (n % 4 == 0 and n % 100 != 0) or (n % 100 == 0 and n % 400 == 0):\n",
    "    \n",
    "    print(\"the given year is leap year\")\n",
    "else:\n",
    "    print(\"the given year is not leap year\")\n"
   ]
  },
  {
   "cell_type": "code",
   "execution_count": 41,
   "id": "b363f2f2",
   "metadata": {},
   "outputs": [
    {
     "name": "stdout",
     "output_type": "stream",
     "text": [
      "40\n",
      "60\n",
      "The greatest number is: 60\n"
     ]
    }
   ],
   "source": [
    "#63)WAP to find out the greatest of two numbers and display the greatest number. if the greatest number, \n",
    "#display the greatest message with value.\n",
    "\n",
    "a=int(input())\n",
    "b=int(input())\n",
    "if a>b:\n",
    "    print(\"The greatest number is:\",a)\n",
    "else:\n",
    "    print(\"The greatest number is:\",b)"
   ]
  },
  {
   "cell_type": "code",
   "execution_count": 59,
   "id": "cc7b0b94",
   "metadata": {},
   "outputs": [
    {
     "name": "stdout",
     "output_type": "stream",
     "text": [
      "1\n",
      "1 2 3 4\n",
      "['1', '2', '3', '4']\n",
      "the value is present inside the collection\n"
     ]
    }
   ],
   "source": [
    "#64) WAP to check whether the given value is present inside the given collection or not. if value is present, \n",
    "#display the value is available or else the value is not present. \n",
    "\n",
    "a=input()\n",
    "b=input().split()\n",
    "print(b)\n",
    "if a in b:\n",
    "    print(\"the value is present inside the collection\")\n",
    "else:\n",
    "    print(\"the value is not present inside the collection\")"
   ]
  },
  {
   "cell_type": "code",
   "execution_count": 104,
   "id": "7c60ad08",
   "metadata": {},
   "outputs": [],
   "source": [
    "#65) WAP to check whether a given value in a list and first and last values should be integer,if condition is satisfied \n",
    "#first value is divisible by 5 and perform the bitwise not for last value and values are stored in same positions in list \n",
    "#or else 2 power length of the collection and display it.\n",
    "l=[1,2,3,4,5]\n",
    "if l[0]==int and l[-1]==int:\n",
    "    if l[0]%5==0:\n",
    "    \n"
   ]
  },
  {
   "cell_type": "code",
   "execution_count": 26,
   "id": "094aea2f",
   "metadata": {},
   "outputs": [
    {
     "name": "stdout",
     "output_type": "stream",
     "text": [
      "abcd\n",
      "b c d c\n"
     ]
    }
   ],
   "source": [
    "#66) WAP to check if the given string of first and second character should be sequence or not. \n",
    "#if the sequence prints the first, second and last two characters, or else the first half string is reversed and the \n",
    "#remaining half string should be normal and display it.\n",
    "\n",
    "s=input()\n",
    "n=ord(s[1])\n",
    "if (n,n+1)==(ord(s[1]), ord(s[2])):\n",
    "    print(s[1],s[2],s[-1],s[-2])\n",
    "else:\n",
    "    half=len(s)//2\n",
    "    rev=s[:half]\n",
    "    print(rev[::-1],s[half:])"
   ]
  },
  {
   "cell_type": "code",
   "execution_count": 11,
   "id": "36f86171",
   "metadata": {},
   "outputs": [
    {
     "name": "stdout",
     "output_type": "stream",
     "text": [
      "dict_items([('a', 1), ('b', 2), ('c', 3)])\n"
     ]
    }
   ],
   "source": [
    "#67) WAP to check whether a given key is present in the dictionary or not. if key is present: \n",
    "#display the value or else add key and new value inside the dict.\n",
    "d={'a':1,'b':2,'c':3}\n",
    "if 'a' in d:\n",
    "    print(d.items())\n",
    "else:\n",
    "    d['a']=1\n",
    "    print(d)\n"
   ]
  },
  {
   "cell_type": "code",
   "execution_count": 10,
   "id": "1033dab3",
   "metadata": {},
   "outputs": [
    {
     "name": "stdout",
     "output_type": "stream",
     "text": [
      "123\n",
      "{'1', '3', '2'}\n",
      "{'1', '5', '3', '2'}\n"
     ]
    }
   ],
   "source": [
    "#68)WAP to check whether a given collection is set or not. if set, append the new value, or else eliminate the \n",
    "#duplicate values in collection. final results should be set type.\n",
    "\n",
    "n=set(input())\n",
    "print(n)\n",
    "if type(n)==set:\n",
    "    n.add('5')\n",
    "    print(n)\n",
    "else:\n",
    "    print(n)"
   ]
  },
  {
   "cell_type": "code",
   "execution_count": 8,
   "id": "cee3c6f8",
   "metadata": {},
   "outputs": [
    {
     "name": "stdout",
     "output_type": "stream",
     "text": [
      "3\n",
      "3 you are not eligible to vote\n"
     ]
    }
   ],
   "source": [
    "#69) WAP to read the age of a candidate and determine whether it is eligible for his/her own vote or not.\n",
    "#it eligible print age and eligible messages or else print not eligible.\n",
    "n=int(input())\n",
    "if n>18:\n",
    "    print(n,\"you are eligible to vote\")\n",
    "else:\n",
    "    print(n,\"you are not eligible to vote\")\n"
   ]
  },
  {
   "cell_type": "code",
   "execution_count": 89,
   "id": "6306545a",
   "metadata": {},
   "outputs": [
    {
     "name": "stdout",
     "output_type": "stream",
     "text": [
      "65\n",
      "13\n"
     ]
    }
   ],
   "source": [
    "#70) WAP to check whether a given value is even and in between 47 to 58 and not in 0 or odd. if condition is True, \n",
    "#to perform display the ascii character, or else to perform floor division with 5 and display it.\n",
    "n=int(input())\n",
    "if n%2==0 and 47<n<58:\n",
    "    print(chr(n))\n",
    "else:\n",
    "    print(n//5)\n"
   ]
  },
  {
   "cell_type": "code",
   "execution_count": 88,
   "id": "514172ae",
   "metadata": {},
   "outputs": [
    {
     "name": "stdout",
     "output_type": "stream",
     "text": [
      "helloolleh\n",
      " the given string is palindrome  helloolleh\n"
     ]
    }
   ],
   "source": [
    "#71) WAP to check whether the given string is palindrome or not if it is a palindrome string palindrome along with the string \n",
    "#if it is not a palindrome print not palindrome\n",
    "\n",
    "n=input()\n",
    "if n==n[::-1]:\n",
    "    print(\" the given string is palindrome \",n)\n",
    "else:\n",
    "    print(\"the given string is not palindrome\",n)\n",
    "\n"
   ]
  },
  {
   "cell_type": "code",
   "execution_count": 87,
   "id": "673aaab7",
   "metadata": {},
   "outputs": [
    {
     "name": "stdout",
     "output_type": "stream",
     "text": [
      "121\n",
      "the given number is palindrome\n"
     ]
    }
   ],
   "source": [
    "#72)WAP to check whether a given number is palindrome or not. If palindrome, display the given value as a palindrome \n",
    "#or else not a palindrome.\n",
    "\n",
    "n=int(input())\n",
    "n_str = str(n)\n",
    "if n_str==n_str[::-1]:\n",
    "    print(\"the given number is palindrome\")\n",
    "else:\n",
    "    print(\"the given number is not palindrome\")"
   ]
  },
  {
   "cell_type": "code",
   "execution_count": 80,
   "id": "df6efbae",
   "metadata": {},
   "outputs": [
    {
     "name": "stdout",
     "output_type": "stream",
     "text": [
      "helloworld\n"
     ]
    }
   ],
   "source": [
    "#73)WAP to check length of both string collections equal or not if both are equal print the concat the two strings \n",
    "#and display, or else if any one of the collection not equal print both the collections with lengths\n",
    "\n",
    "\n",
    "s1=\"hello\"\n",
    "s2=\"world\"\n",
    "if len(s1)==len(s2):\n",
    "    print(s1+s2)\n",
    "else:\n",
    "    print(len(s1),len(s2))    \n"
   ]
  },
  {
   "cell_type": "code",
   "execution_count": 73,
   "id": "ac26a604",
   "metadata": {},
   "outputs": [
    {
     "name": "stdout",
     "output_type": "stream",
     "text": [
      "h o\n",
      "2184930567984 2184935205808\n"
     ]
    }
   ],
   "source": [
    "#74)WAP to check whether both given values point to the same memory location or not. if it is true print the middle item of\n",
    "#the second collection, or else if it is false print the first item and last item of the first collection along with the \n",
    "#memory address.\n",
    "\n",
    "c1=\"hello\"\n",
    "c2=\"hellow\"\n",
    "if c1 is c2:\n",
    "    print(c2[len(c2)//2])\n",
    "else:\n",
    "    print(c1[0],c1[-1])\n",
    "    print(id(c1),id(c2))"
   ]
  },
  {
   "cell_type": "code",
   "execution_count": 69,
   "id": "f8b2f6ac",
   "metadata": {},
   "outputs": [
    {
     "name": "stdout",
     "output_type": "stream",
     "text": [
      "programming\n",
      "112 97 103\n"
     ]
    }
   ],
   "source": [
    "#75) WAP to check whether a given string collection is more than ten, and the first + last character of the ascii values should\n",
    "#be divisible by 5, if condition is satisfied print first, middle and last characters ASCII values or else print the string \n",
    "#three times. \n",
    "n=input()\n",
    "if len(n)>10 and (ord(n[0])+ord(n[-1]))%5==0:\n",
    "    print(ord(n[0]),ord(n[len(n)//2]),ord(n[-1]))\n",
    "\n"
   ]
  },
  {
   "cell_type": "code",
   "execution_count": 67,
   "id": "a6b9381f",
   "metadata": {},
   "outputs": [
    {
     "name": "stdout",
     "output_type": "stream",
     "text": [
      "123445\n",
      "['1', '2', '3', '4', '4', '5']\n"
     ]
    }
   ],
   "source": [
    "#76) WAP to check whether the middle of the item present in the list is string data type or not if it is string print that list\n",
    "#or else if it is not string then print that middle item.\n",
    "n=list(input())\n",
    "\n",
    "middle_value=n[len(n)//2]\n",
    "if type(middle_value)==str:\n",
    "    print(n)\n",
    "else:\n",
    "    print(iddle_value)"
   ]
  },
  {
   "cell_type": "markdown",
   "id": "50090e4f",
   "metadata": {},
   "source": [
    "# IF ELIF STATEMENT"
   ]
  },
  {
   "cell_type": "code",
   "execution_count": 90,
   "id": "78ee8b11",
   "metadata": {},
   "outputs": [
    {
     "name": "stdout",
     "output_type": "stream",
     "text": [
      "the number is negative number\n"
     ]
    }
   ],
   "source": [
    "#77) WAP to check whether a given value is positive or negative or neutral. if positive, \n",
    "#display the positive with value or negative display the negative with value or else display the neutral with value. \n",
    "\n",
    "\n",
    "n=-5\n",
    "if n>0:\n",
    "    print(\"the number is positive\")\n",
    "elif n<0:\n",
    "    print(\"the number is negative number\")\n",
    "elif n==0:\n",
    "    print(\"the number is neutral number \")"
   ]
  },
  {
   "cell_type": "code",
   "execution_count": 95,
   "id": "9f1fc2b3",
   "metadata": {},
   "outputs": [
    {
     "name": "stdout",
     "output_type": "stream",
     "text": [
      "the greatest number is 17\n"
     ]
    }
   ],
   "source": [
    "#78) WAP to find out the greatest of three numbers, and display the greatest number.\n",
    "\n",
    "n1=9\n",
    "n2=17\n",
    "n3=10\n",
    "if n1>n2 and n1>n3:\n",
    "    print(\"the greatest number is:\",n1)\n",
    "elif n2>n3:\n",
    "    print(\"the greatest number is\",n2)\n",
    "else:\n",
    "    print(\"the greatest number is \",n3)\n",
    "    "
   ]
  },
  {
   "cell_type": "code",
   "execution_count": 7,
   "id": "50fc40db",
   "metadata": {},
   "outputs": [
    {
     "name": "stdout",
     "output_type": "stream",
     "text": [
      "fizz buzz\n"
     ]
    }
   ],
   "source": [
    "#79) Write a program to check whether a given number is divisible by 3 and 5. if the number\n",
    "#divisible by 3 print fizz, if the number divisible by 5 print 'buzz' if it is divisible by both\n",
    "#then print fizz buzz \n",
    "n=15\n",
    "if n%3==0 and n%5==0:\n",
    "    print(\"fizz buzz\")\n",
    "elif n%3==0:\n",
    "    print(\"fizz\")\n",
    "elif n%5==0:\n",
    "    print(\"buzz\")\n",
    "    "
   ]
  },
  {
   "cell_type": "code",
   "execution_count": 10,
   "id": "b1565029",
   "metadata": {},
   "outputs": [
    {
     "name": "stdout",
     "output_type": "stream",
     "text": [
      "n1 is greater than n2\n"
     ]
    }
   ],
   "source": [
    "#80)WAP to find out the relationship between two values and display the relationship.\n",
    "n1=15\n",
    "n2=10\n",
    "if n1<n2:\n",
    "    print(\"n1 is less than n2\")\n",
    "elif n1>n2:\n",
    "    print(\"n1 is greater than n2\")\n",
    "else:\n",
    "    print(\"n1 and n2 are equal\")"
   ]
  },
  {
   "cell_type": "code",
   "execution_count": 11,
   "id": "192e5951",
   "metadata": {},
   "outputs": [
    {
     "name": "stdout",
     "output_type": "stream",
     "text": [
      "Given number is two digit 12\n"
     ]
    }
   ],
   "source": [
    "#81) 17. Write a program to check if a given number is one digit or two digit or three digit\n",
    "#for more than 3 digit, if one digit displays the one digit value, if two digit displays the\n",
    "#two digit value and so on..\n",
    "n=12\n",
    "if len(str(n))==1:\n",
    "    print(\"Given number is one digit\",n)\n",
    "elif len(str(n))==2:\n",
    "    print(\"Given number is two digit\",n)\n",
    "elif len(str(n))==3:\n",
    "    print(\"Given number is three digit\",n)\n",
    "    \n"
   ]
  },
  {
   "cell_type": "code",
   "execution_count": 2,
   "id": "245d1b45",
   "metadata": {},
   "outputs": [
    {
     "name": "stdout",
     "output_type": "stream",
     "text": [
      "a the ascii number is  97 it is a alphabet\n"
     ]
    }
   ],
   "source": [
    "#82)WAP to check whether a given character is an alphabet or ascii number or special character or invalid. if alphabet, \n",
    "#display the alphabet or elif ascii number display the ascii number with character, or else display \n",
    "#the special character with character.\n",
    "n='a'\n",
    "if 'A'<=n<='Z' or 'a'<=n<='z':\n",
    "    print(n, \"the ascii number is \",ord(n),\"it is a alphabet\")\n",
    "elif '0'<=n<='9':\n",
    "    print(n,\"the ascii number is \", ord(n),\"it is a number\")\n",
    "elif not('A'<=n<='Z' or 'a'<=n<='z' or '0'<=n<='9'):\n",
    "    print(n, \"the ascii number is \",ord(n),\"it is a special character\")\n",
    "else:\n",
    "    print(\"invalid\")\n"
   ]
  },
  {
   "cell_type": "code",
   "execution_count": 3,
   "id": "a0961a04",
   "metadata": {},
   "outputs": [
    {
     "name": "stdout",
     "output_type": "stream",
     "text": [
      "3\n",
      "Three\n"
     ]
    }
   ],
   "source": [
    "#83) Write a program to accept any number from 1-5 and display that number in wordform.\n",
    "\n",
    "n=int(input())\n",
    "if 1<=n<=5:\n",
    "    if n==1:\n",
    "        print(\"one\")\n",
    "    elif n==2:\n",
    "        print(\"two\")\n",
    "    elif n==3:\n",
    "        print(\"Three\")\n",
    "    elif n==4:\n",
    "        print(\"four\")\n",
    "    elif n==5:\n",
    "        print(\"five\")\n",
    "else:\n",
    "    print(\"The given number should be in the range of 1 to 5 \")"
   ]
  },
  {
   "cell_type": "code",
   "execution_count": 4,
   "id": "81f00607",
   "metadata": {},
   "outputs": [
    {
     "name": "stdout",
     "output_type": "stream",
     "text": [
      "Enter the charactera\n",
      "A\n"
     ]
    }
   ],
   "source": [
    "#84) WAP to check whether a given character is uppercase or lowercase or special character. \n",
    "#if uppercase, convert to lower case or elif lowercase, convert to uppercase or else display the previous, \n",
    "#given and next characters and display it.\n",
    "\n",
    "n=input(\"Enter the character\")\n",
    "if \"A\"<=n<=\"Z\":\n",
    "    print(chr(ord(n)+32))\n",
    "elif \"a\"<=n<=\"z\":\n",
    "    print(chr(ord(n)-32))\n",
    "else:\n",
    "    print(chr(ord(n)-1),n,chr(ord(n)+1))"
   ]
  },
  {
   "cell_type": "code",
   "execution_count": 8,
   "id": "f52c458d",
   "metadata": {},
   "outputs": [
    {
     "name": "stdout",
     "output_type": "stream",
     "text": [
      "Enter the charactera\n",
      "The given character is lower case character\n"
     ]
    }
   ],
   "source": [
    "#85) WAP to check whether the given character is in lowercase or uppercase, special characters. \n",
    "#Display the what type of case.\n",
    "n=input(\"Enter the character\")\n",
    "if \"A\"<=n<=\"Z\":\n",
    "    print(\"The given character is upper case character\")\n",
    "elif \"a\"<=n<=\"z\":\n",
    "    print(\"The given character is lower case character\")\n",
    "else:\n",
    "    print(\"The given character is special character\")\n"
   ]
  },
  {
   "cell_type": "code",
   "execution_count": 9,
   "id": "4f363efc",
   "metadata": {},
   "outputs": [
    {
     "name": "stdout",
     "output_type": "stream",
     "text": [
      "Enter the percentage that you have gained over 100%70\n",
      "Third grade\n"
     ]
    }
   ],
   "source": [
    "#86)WAP to check whether a given percentage is which grade and display grade. note. \n",
    "#(first grade, second grade, third grade, fail)\n",
    "\n",
    "n=int(input(\"Enter the percentage that you have gained over 100%\"))\n",
    "if n>=90:\n",
    "    print(\"First grade\")\n",
    "elif 80<=n<=90:\n",
    "    print(\"Second grade\")\n",
    "elif 60<=n<=80:\n",
    "    print(\"Third grade\")\n",
    "else:\n",
    "    print(\"Fail\")\n"
   ]
  },
  {
   "cell_type": "code",
   "execution_count": 11,
   "id": "82a7145a",
   "metadata": {},
   "outputs": [
    {
     "name": "stdout",
     "output_type": "stream",
     "text": [
      "enter the symbol that you want to perform on the two numbers: +,-,*,%,/,//,**+\n",
      "Enter the first number:4\n",
      "Enter the sencond number:5\n",
      "The sum of two numbers are: 9\n"
     ]
    }
   ],
   "source": [
    "#87)WAP to perform arithmetic operations depends on a user choice.\n",
    "n=input(\"enter the symbol that you want to perform on the two numbers: +,-,*,%,/,//,**\")\n",
    "n1=int(input(\"Enter the first number:\"))\n",
    "n2=int(input(\"Enter the sencond number:\"))\n",
    "if n==\"+\":\n",
    "    print(\"The sum of two numbers are:\",n1+n2)\n",
    "elif n==\"-\":\n",
    "    print(\"The sunbraction of two numbers are:\",n1-n2)\n",
    "elif n==\"*\":\n",
    "    print(\"The multiplication of two numbers are:\",n1*n2)\n",
    "elif n==\"%\":\n",
    "    print(\"The modules of two numbers are:\",n1%n2)\n",
    "elif n==\"/\":\n",
    "    print(\"The division of two numbers are:\",n1/n2)\n",
    "elif n==\"//\":\n",
    "    print(\"The floor division of two numbers are:\",n1//n2)\n",
    "elif n==\"**\":\n",
    "    print(\"The power of two numbers are:\",n1**n2)"
   ]
  },
  {
   "cell_type": "code",
   "execution_count": 21,
   "id": "901af900",
   "metadata": {},
   "outputs": [
    {
     "name": "stdout",
     "output_type": "stream",
     "text": [
      "Enter the number3\n",
      "{1, 2, 3, 4, '3'}\n"
     ]
    }
   ],
   "source": [
    "#88)WAP to check whether a given collection is a list or tuple or set . if list, \n",
    "#append the new value in middle of the list, if tuple, append the new value in starting of the tuple if set, \n",
    "#append the new value in set, or else append a new key as given character and values as an ascii value with character.\n",
    "s={1,2,3,4}\n",
    "n=input(\"Enter the number\")\n",
    "if type(s)==list:\n",
    "    s[len(s)//2]=n\n",
    "elif type(s)==tuple:\n",
    "    s=(n,)+s\n",
    "elif type(s)==set:\n",
    "    s.add(n)\n",
    "else:\n",
    "    s[n]=ord(n)\n",
    "\n",
    "print(s)"
   ]
  },
  {
   "cell_type": "code",
   "execution_count": 29,
   "id": "ed1b080d",
   "metadata": {},
   "outputs": [
    {
     "name": "stdout",
     "output_type": "stream",
     "text": [
      "kfhjk\n"
     ]
    }
   ],
   "source": [
    "#89) WAP to check whether a given value is a integer or float or string or other, if integer, given value division by 5 \n",
    "#and display the quotient, if float, perform the bitwise or operation with 15, if string, extract for last position valu \n",
    "#and store it in first positions of the string.\n",
    "n=\"fhjk\"\n",
    "if type(n)==int:\n",
    "    if n%5==0:\n",
    "        print(n/5)\n",
    "elif type(n)==float:\n",
    "    print(n|15)\n",
    "elif type(n)==str:\n",
    "    s=n[-1]\n",
    "    n=s+n\n",
    "    print(n)"
   ]
  },
  {
   "cell_type": "markdown",
   "id": "bb6500ec",
   "metadata": {},
   "source": [
    "# Nested if statement"
   ]
  },
  {
   "cell_type": "code",
   "execution_count": 30,
   "id": "97dec5eb",
   "metadata": {},
   "outputs": [
    {
     "name": "stdout",
     "output_type": "stream",
     "text": [
      "O\n"
     ]
    }
   ],
   "source": [
    "#90) WAP to check whether the given input alphabet present in a collection or not if it is\n",
    "#present in the collection check whether that alphabet is uppercase or lowercase if it is\n",
    "#uppercase convert it into lowercase and vice versa if the alphabet not present in the collection print invalid\n",
    "s=\"how are you\"\n",
    "n=\"o\"\n",
    "if n in s:\n",
    "    if \"a\"<=n<=\"z\":\n",
    "        print(chr(ord(n)-32))\n",
    "    elif \"A\"<=n<=\"Z\":\n",
    "        print(chr(ord(n)+32))\n",
    "else:\n",
    "    print(\"invalid\")"
   ]
  },
  {
   "cell_type": "code",
   "execution_count": 31,
   "id": "3716f46f",
   "metadata": {},
   "outputs": [
    {
     "name": "stdout",
     "output_type": "stream",
     "text": [
      "o r o\n"
     ]
    }
   ],
   "source": [
    "#91) WAP to check whether the given input character is or not. present in a given string collection\n",
    "#if it is present, check whether the collection length is even or odd, if it is even print even indexed\n",
    "#items of that collection using slicing if it is odd, print odd indexed item of that collection if the character not present\n",
    "#in the collection just print that collection\n",
    "s=\"how are you\"\n",
    "n=\"o\"\n",
    "if n in s:\n",
    "    if len(s)%2==0:\n",
    "        print(s[::2])\n",
    "    else:\n",
    "        print(s[1::2])\n",
    "else:\n",
    "    print(s)\n"
   ]
  },
  {
   "cell_type": "code",
   "execution_count": 27,
   "id": "149460fc",
   "metadata": {},
   "outputs": [
    {
     "name": "stdout",
     "output_type": "stream",
     "text": [
      "user id is: a password is: 1\n"
     ]
    }
   ],
   "source": [
    "#wap to check whether the given user id and password is right or wrong\n",
    "\n",
    "user_id='a'\n",
    "password=1\n",
    "d={'a':1,'b':2,'c':3,'d':4}\n",
    "keys=d.keys()\n",
    "values=d.values()\n",
    "if user_id in keys and password==d[user_id]:\n",
    "    print(\"user id is:\",user_id,\"password is:\",password)\n",
    "elif user_id not in keys and password not in values:\n",
    "    print(\"user id and password is incorret\")\n",
    "elif user_id not in keys:\n",
    "        print(\"incorrect user_id\")\n",
    "elif user_id in keys and password!=d[user_id]:\n",
    "    print(\"incorrect password\")"
   ]
  }
 ],
 "metadata": {
  "kernelspec": {
   "display_name": "Python 3 (ipykernel)",
   "language": "python",
   "name": "python3"
  },
  "language_info": {
   "codemirror_mode": {
    "name": "ipython",
    "version": 3
   },
   "file_extension": ".py",
   "mimetype": "text/x-python",
   "name": "python",
   "nbconvert_exporter": "python",
   "pygments_lexer": "ipython3",
   "version": "3.9.13"
  }
 },
 "nbformat": 4,
 "nbformat_minor": 5
}
